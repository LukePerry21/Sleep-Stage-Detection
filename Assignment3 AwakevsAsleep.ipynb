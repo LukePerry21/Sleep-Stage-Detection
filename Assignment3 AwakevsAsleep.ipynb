{
 "cells": [
  {
   "cell_type": "markdown",
   "id": "0677bb4c-499a-4105-a61b-29f96234db4b",
   "metadata": {},
   "source": [
    "***Assignment 3***\n",
    "\n",
    "**Written By: Luke Perry and Devon Warner**"
   ]
  },
  {
   "cell_type": "markdown",
   "id": "c6832d17-853a-4434-b0ef-2e576ce7d632",
   "metadata": {
    "jupyter": {
     "source_hidden": true
    },
    "tags": []
   },
   "source": [
    "import matplotlib.pyplot as plt\n",
    "import numpy as np\n",
    "from pyedflib import highlevel\n",
    "from scipy.signal import spectrogram, welch, find_peaks\n",
    "import pandas as pd\n"
   ]
  },
  {
   "cell_type": "code",
   "execution_count": 251,
   "id": "b1301896-0b1a-4a70-9fe9-42c12c797463",
   "metadata": {
    "jupyter": {
     "source_hidden": true
    },
    "tags": []
   },
   "outputs": [],
   "source": [
    "import math\n",
    "import scipy\n",
    "import numpy as np\n",
    "import pandas as pd\n",
    "import matplotlib.pyplot as plt\n",
    "\n",
    "from pyedflib import highlevel\n",
    "from scipy.signal import spectrogram, welch\n",
    "\n",
    "from sklearn import preprocessing\n",
    "from sklearn.preprocessing import scale\n",
    "from sklearn.preprocessing import StandardScaler\n",
    "\n",
    "from sklearn.metrics import r2_score\n",
    "from sklearn.metrics import accuracy_score\n",
    "from sklearn.metrics import confusion_matrix\n",
    "from sklearn.metrics import mean_squared_error\n",
    "from sklearn.metrics import mean_absolute_error\n",
    "from sklearn.metrics import plot_confusion_matrix\n",
    "from sklearn.metrics import classification_report\n",
    "from sklearn.model_selection import cross_val_score\n",
    "from sklearn.model_selection import train_test_split\n",
    "\n",
    "from sklearn import svm\n",
    "from sklearn.naive_bayes import GaussianNB\n",
    "from sklearn.neighbors import KNeighborsClassifier\n",
    "from sklearn.linear_model import LogisticRegression\n",
    "from sklearn.discriminant_analysis import LinearDiscriminantAnalysis\n",
    "from sklearn.discriminant_analysis import QuadraticDiscriminantAnalysis"
   ]
  },
  {
   "cell_type": "code",
   "execution_count": 267,
   "id": "1b6813b6-29ba-429d-8a9b-0db2ed3a347d",
   "metadata": {
    "tags": []
   },
   "outputs": [],
   "source": [
    "def get_annot(header, signal):\n",
    "    \"\"\"\n",
    "    Function to translate .edf annotation files into a vector with classes related to sleep state\n",
    "    \n",
    "    0 - Awake (W)\n",
    "    1 - Sleep 1 (1)\n",
    "    2 - Sleep 2 (2)\n",
    "    3 - Sleep 3 (3)\n",
    "    4 - Sleep 4 (4)\n",
    "    5 - REM (R)\n",
    "    nan - Not annotated (?)\n",
    "    \"\"\"\n",
    "    \n",
    "    list_of_annot = header['annotations']\n",
    "\n",
    "    \n",
    "    annot = np.zeros((len(signal),1))\n",
    "\n",
    "\n",
    "    for ann in list_of_annot:\n",
    "\n",
    "        if 'W' in ann[2]:\n",
    "            cat = 0\n",
    "        elif '1' in ann[2]:\n",
    "            cat = 1\n",
    "        elif '2' in ann[2]:\n",
    "            cat = 2\n",
    "        elif  '3' in ann[2]:\n",
    "            cat = 3\n",
    "        elif '4' in ann[2]:\n",
    "            cat = 4\n",
    "        elif 'R' in ann[2]:\n",
    "            cat = 5\n",
    "        elif '?' in ann[2]:\n",
    "            cat = 6\n",
    "        else:\n",
    "            cat = 6\n",
    "            \n",
    "        try:\n",
    "            annot[int(ann[0]):int(ann[0]) + int(ann[1])] = cat\n",
    "        except: \n",
    "            pass\n",
    "        \n",
    "        \n",
    "        \n",
    "    return annot"
   ]
  },
  {
   "cell_type": "code",
   "execution_count": 268,
   "id": "bb7e7dac-b269-4e74-b649-bd201cb62898",
   "metadata": {},
   "outputs": [],
   "source": [
    "def band_power(data):\n",
    "    Fs = 100\n",
    "    freq, time, Sxx= spectrogram(data, Fs, nperseg=100, noverlap=0, scaling='spectrum')\n",
    "    Sxx = Sxx.T\n",
    "\n",
    "    delta_band = np.zeros_like(time)\n",
    "    theta_band = np.zeros_like(time) \n",
    "    alpha_band = np.zeros_like(time) \n",
    "    beta_band = np.zeros_like(time)\n",
    "    # print(f'Expected length of time = {(T2-T1)/100}')\n",
    "    # print(f'len(time) = {len(time)}')\n",
    "    for i,t in enumerate(time):\n",
    "        current_Sxx = Sxx[i]\n",
    "        for f in freq:\n",
    "            if f<=4:\n",
    "                delta_band[i]+=current_Sxx[freq==f]\n",
    "            elif f<8:\n",
    "                theta_band[i]+=current_Sxx[freq==f]\n",
    "            elif f<=13:\n",
    "                alpha_band[i]+=current_Sxx[freq==f]\n",
    "            elif f<=50:\n",
    "                beta_band[i]+=current_Sxx[freq==f]\n",
    "                \n",
    "    return delta_band, theta_band, alpha_band, beta_band\n",
    "\n",
    "# Mean of the absolute value of the data\n",
    "def avg(data):\n",
    "    return np.mean(np.abs(data))\n",
    "\n",
    "# Range of the absolute of the magnitude\n",
    "def rang(data):\n",
    "    print(data)\n",
    "    return max(abs(np.double(data)))-min(abs(np.double(data)))\n",
    "\n",
    "# Variance\n",
    "def var(data):\n",
    "    return np.var(data)"
   ]
  },
  {
   "cell_type": "code",
   "execution_count": 269,
   "id": "f5be09fd-92de-4463-8a9f-bbccac2572bd",
   "metadata": {},
   "outputs": [],
   "source": [
    "def get_bands_from_file(PSG_Filename, Hyp_Filename, label):\n",
    "    #read the data \n",
    "    signals, signal_headers, header = highlevel.read_edf(PSG_Filename)\n",
    "    #read the annotations \n",
    "    signals_hyp, signal_headers_hyp, header_hyp = highlevel.read_edf(Hyp_Filename)\n",
    "    #use function to translate .edf annotation file into a vector with annotations \n",
    "    annot = get_annot(header_hyp, signals[0])\n",
    "    \n",
    "    data = signals[0]\n",
    "    delta_band, theta_band, alpha_band, beta_band = band_power(data)\n",
    "    \n",
    "    delta_band = pd.DataFrame(delta_band, columns=['Delta band'])\n",
    "    theta_band = pd.DataFrame(theta_band, columns=['Theta band'])\n",
    "    alpha_band = pd.DataFrame(alpha_band, columns=['Alpha band'])\n",
    "    beta_band = pd.DataFrame(beta_band, columns=['Beta band'])\n",
    "\n",
    "    T = len(data)\n",
    "    t = int(T/100)\n",
    "    annot = annot[0:t]\n",
    "    annot = pd.DataFrame(annot, columns=['class'])\n",
    "    \n",
    "    features = pd.concat([annot, delta_band, theta_band, alpha_band, beta_band], axis=1)\n",
    "    return features"
   ]
  },
  {
   "cell_type": "code",
   "execution_count": 270,
   "id": "5080db1a-a5bd-4a93-aa75-513c21a18c44",
   "metadata": {},
   "outputs": [
    {
     "name": "stdout",
     "output_type": "stream",
     "text": [
      "       class   Delta band  Theta band  Alpha band   Beta band\n",
      "0        0.0    66.977903    2.023953    2.829123    4.795149\n",
      "1        0.0   719.507739   80.449050    8.819837   15.816797\n",
      "2        0.0   819.491009   63.250742   32.428322   51.670797\n",
      "3        0.0   306.345809  526.242716   63.723784   57.499063\n",
      "4        0.0  1902.389226  369.237354   43.094873   20.900476\n",
      "...      ...          ...         ...         ...         ...\n",
      "84895    0.0   594.521916   73.190658   36.536285  140.362038\n",
      "84896    0.0   326.105746   17.665097   26.668790   98.177925\n",
      "84897    0.0   690.802196   39.557094   19.180396  185.077684\n",
      "84898    0.0   220.117383   93.217599   35.718400   65.732486\n",
      "84899    0.0   369.682504   77.622151   37.416572  133.985574\n",
      "\n",
      "[164400 rows x 5 columns]\n"
     ]
    }
   ],
   "source": [
    "features1 = get_bands_from_file('SC4001E0-PSG.edf', 'SC4001EC-Hypnogram.edf', 1)\n",
    "features2 = get_bands_from_file('SC4002E0-PSG.edf', 'SC4002EC-Hypnogram.edf', 1)\n",
    "features = pd.concat([features1, features2], axis=0)\n",
    "print(features)"
   ]
  },
  {
   "cell_type": "code",
   "execution_count": 271,
   "id": "8b8704bb-e1e1-42fa-9baf-8f6bec91b320",
   "metadata": {},
   "outputs": [
    {
     "name": "stdout",
     "output_type": "stream",
     "text": [
      "Training set dimensions\n",
      "(98640, 5)\n",
      "(98640,)\n",
      "\n",
      "Test set dimensions\n",
      "(65760, 5)\n",
      "(65760,)\n",
      "\n",
      "Testing Classification Report:\n",
      "\n",
      "               precision    recall  f1-score   support\n",
      "\n",
      "         0.0       1.00      1.00      1.00     46602\n",
      "         1.0       0.12      0.00      0.01      1368\n",
      "         2.0       0.65      0.97      0.78      7513\n",
      "         3.0       0.25      0.00      0.00      2286\n",
      "         4.0       0.80      0.79      0.79      3817\n",
      "         5.0       1.00      1.00      1.00      4168\n",
      "         6.0       0.00      0.00      0.00         6\n",
      "\n",
      "    accuracy                           0.93     65760\n",
      "   macro avg       0.55      0.54      0.51     65760\n",
      "weighted avg       0.90      0.93      0.91     65760\n",
      "\n",
      "\n",
      "Testing Confusion Matrix:\n",
      "\n"
     ]
    },
    {
     "name": "stderr",
     "output_type": "stream",
     "text": [
      "C:\\Users\\lukem\\anaconda3\\envs\\landmarks\\lib\\site-packages\\sklearn\\svm\\_base.py:1206: ConvergenceWarning: Liblinear failed to converge, increase the number of iterations.\n",
      "  warnings.warn(\n"
     ]
    }
   ],
   "source": [
    "features1 = get_bands_from_file('SC4001E0-PSG.edf', 'SC4001EC-Hypnogram.edf', 1)\n",
    "features2 = get_bands_from_file('SC4002E0-PSG.edf', 'SC4002EC-Hypnogram.edf', 1)\n",
    "X = pd.concat([features1, features2], axis=0)\n",
    "y = np.ravel(X['class'])                       # Annotations: sleep or wake\n",
    "(trainX, testX, trainY, testY) = train_test_split(X, y, test_size = 0.40, random_state = 1)\n",
    "\n",
    "print('Training set dimensions')\n",
    "print(trainX.shape)\n",
    "print(trainY.shape)\n",
    "\n",
    "print('\\nTest set dimensions')\n",
    "print(testX.shape)\n",
    "print(testY.shape)\n",
    "\n",
    "\n",
    "scaler = StandardScaler()           # To normalize the data\n",
    "# model = GaussianNB()                        # classifier: naive Bayes\n",
    "# model = KNeighborsClassifier()              # classifier: Nearest neighbors\n",
    "# model = LogisticRegression()                # classifier: logistic regression\n",
    "# model = LinearDiscriminantAnalysis()        # classifier: Linear Discriminant Analysis (LDA)\n",
    "model = svm.LinearSVC()                     # classifier: Support Vector Machine (SVM)- linear support vector classifier (SVC)\n",
    "\n",
    "# Normalize \n",
    "scaler.fit(trainX)\n",
    "trainXnorm = scaler.transform(trainX)\n",
    "testXnorm = scaler.transform(testX)\n",
    "\n",
    "# Fit model (Logistic Reg.) to the Training data\n",
    "model.fit(trainXnorm, trainY)\n",
    "    \n",
    "# Predict the classes (y) from test features (X)\n",
    "predictedY = model.predict(testXnorm)\n",
    "\n",
    "\n",
    "# print quality metrics\n",
    "print('\\nTesting Classification Report:\\n\\n', classification_report(testY, predictedY))\n",
    "\n",
    "print('\\nTesting Confusion Matrix:\\n')\n",
    "\n"
   ]
  },
  {
   "cell_type": "markdown",
   "id": "6f1b846a-16b1-4660-9add-0a335342e136",
   "metadata": {},
   "source": [
    "Producing the spectrogram of the signal allowed us to obtain a power spectral density of the signal over time. Using these spectral densities the total density of each band was calculated by summing all frequencies within the given band. The bands are specified as follows:\n",
    "delta 0.4-4 Hz\n",
    "theta 4-8 Hz\n",
    "alpha 8-13 Hz\n",
    "beta 13-50 Hz\n",
    "By calculating the band power for each second and running a Support Machine Vector classifer specifcially the linear support vector classifier an accuracy of 93% and a weighted accuracy of 91%."
   ]
  }
 ],
 "metadata": {
  "kernelspec": {
   "display_name": "Python 3 (ipykernel)",
   "language": "python",
   "name": "python3"
  },
  "language_info": {
   "codemirror_mode": {
    "name": "ipython",
    "version": 3
   },
   "file_extension": ".py",
   "mimetype": "text/x-python",
   "name": "python",
   "nbconvert_exporter": "python",
   "pygments_lexer": "ipython3",
   "version": "3.8.3"
  }
 },
 "nbformat": 4,
 "nbformat_minor": 5
}
